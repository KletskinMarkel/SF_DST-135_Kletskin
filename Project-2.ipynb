{
 "cells": [
  {
   "cell_type": "code",
   "execution_count": 1,
   "metadata": {},
   "outputs": [],
   "source": [
    "import pandas as pd\n",
    "import psycopg2\n",
    "import plotly.express as px"
   ]
  },
  {
   "attachments": {},
   "cell_type": "markdown",
   "metadata": {},
   "source": [
    "По результатам исследования базы данных с вакансиями можно сделать следующие выводы:\n",
    "\n",
    "Большинство вакансий встречается в крупных городах, где находится большое количество различных компаний.\n",
    "ТОП-5 популярных вакансий: Системный администратор, Программист 1С, Бизнес-аналитик, Специалист технической поддержки, Системный аналитик. Это свидетельствует о востребованности IT специалистов на рынке труда.\n",
    "Чаще других вакансии размещают работодатели, у которых указаны сферы деятельности: \"Разработка программного обеспечения\" \"Системная интеграция. IT-консалтинг\", \"Интернет-компания\".\n",
    "Основная масса всех вакансий это: регион - крупный город, тип рабочего графика и трудоустройства - полная занятость/полный рабочий день, опыт работы - от 1 года до 3 лет.\n",
    "Примерно в половине случаев работодатель не указывает уровень заработной платы. Вероятнее всего, это будет определяться по результатам собеседования.\n",
    "Для начинающего специалиста по Data Science есть возможность выбора из 51 вакансии.\n",
    "Начинающий дата-саентист, желающий найти удаленную работу, должен иметь опыт не менее 1 года. Он может рассчитывать на зарплату от 75 000 рублей.\n",
    "В качестве продолжения исследования было бы интересно выяснить средний уровень зарплаты в разрезе регионов и сфер деятельнсти/компаний."
   ]
  },
  {
   "attachments": {},
   "cell_type": "markdown",
   "metadata": {},
   "source": [
    "Дополнительно узнаем минимальный и максимальный уровень зарплаты для дата-саентиста с типом рабочего графика Удаленная работа"
   ]
  },
  {
   "cell_type": "code",
   "execution_count": null,
   "metadata": {},
   "outputs": [],
   "source": [
    "query_7 = f'''\n",
    "            SELECT experience,\n",
    "            ROUND(MIN(COALESCE((salary_from + salary_to)/2, salary_to, salary_from))) min_salary,\n",
    "            ROUND(MAX(COALESCE((salary_from + salary_to)/2, salary_to, salary_from))) max_salary                    \n",
    "            FROM public.vacancies\n",
    "            WHERE (name ILIKE '%data scientist%'\n",
    "                OR name ILIKE '%data science%'\n",
    "                OR name ILIKE '%исследователь данных%'\n",
    "                OR (name LIKE '%ML%' AND name NOT LIKE'%HTML%')\n",
    "                OR name ILIKE '%machine learning%'\n",
    "                OR name ILIKE '%машинн%обучен%')\n",
    "                AND (salary_to IS NOT NULL OR salary_from IS NOT NULL)\n",
    "                AND schedule = 'Удаленная работа'\n",
    "            GROUP BY experience\n",
    "            '''"
   ]
  },
  {
   "cell_type": "code",
   "execution_count": null,
   "metadata": {},
   "outputs": [],
   "source": [
    "# результат запроса\n",
    "ds_salary_remote = pd.read_sql_query(query_7, connection)\n",
    "ds_salary_remote"
   ]
  },
  {
   "attachments": {},
   "cell_type": "markdown",
   "metadata": {},
   "source": [
    "Дополнительно определим какие сферы деятельности чаще всего работодатели указывают в своих вакансиях"
   ]
  },
  {
   "cell_type": "code",
   "execution_count": null,
   "metadata": {},
   "outputs": [],
   "source": [
    "query_8 = f'''\n",
    "            SELECT i.name industry_name,\n",
    "                COUNT(v.id) cnt_vacancies\n",
    "            FROM public.industries i\n",
    "            JOIN public.employers_industries ei ON i.id = ei.industry_id\n",
    "            JOIN public.employers e ON e.id = ei.employer_id\n",
    "            JOIN public.vacancies v ON e.id = v.employer_id\n",
    "            GROUP BY i.name\n",
    "            ORDER BY cnt_vacancies DESC\n",
    "            '''"
   ]
  },
  {
   "cell_type": "code",
   "execution_count": null,
   "metadata": {},
   "outputs": [],
   "source": [
    "# результат запроса\n",
    "industries = pd.read_sql_query(query_8, connection)\n",
    "industries"
   ]
  },
  {
   "cell_type": "code",
   "execution_count": null,
   "metadata": {},
   "outputs": [],
   "source": [
    "# построим график\n",
    "fig = px.treemap(\n",
    "    data_frame=industries, \n",
    "    path=['industry_name'], \n",
    "    values='cnt_vacancies', \n",
    "    height=800, \n",
    "    width=1200, \n",
    "    title='Сферы деятельности работодателей, указанные в вакансиях' #заголовок\n",
    ")\n",
    "\n",
    "#отображаем график\n",
    "fig.show()"
   ]
  },
  {
   "attachments": {},
   "cell_type": "markdown",
   "metadata": {},
   "source": [
    "Определим ТОП-5 популярных вакансий"
   ]
  },
  {
   "cell_type": "code",
   "execution_count": null,
   "metadata": {},
   "outputs": [],
   "source": [
    "query_9 = f'''\n",
    "            SELECT name vacancies_name,\n",
    "                COUNT(id) cnt_vacancies\n",
    "            FROM public.vacancies\n",
    "            GROUP BY name\n",
    "            ORDER BY cnt_vacancies DESC\n",
    "            LIMIT 5\n",
    "            '''"
   ]
  },
  {
   "cell_type": "code",
   "execution_count": null,
   "metadata": {},
   "outputs": [],
   "source": [
    "# результат запроса\n",
    "top_vacancy = pd.read_sql_query(query_9, connection)\n",
    "top_vacancy"
   ]
  },
  {
   "cell_type": "code",
   "execution_count": null,
   "metadata": {},
   "outputs": [],
   "source": [
    "# connection.close()"
   ]
  }
 ],
 "metadata": {
  "kernelspec": {
   "display_name": "Python 3.9.10 64-bit",
   "language": "python",
   "name": "python3"
  },
  "language_info": {
   "codemirror_mode": {
    "name": "ipython",
    "version": 3
   },
   "file_extension": ".py",
   "mimetype": "text/x-python",
   "name": "python",
   "nbconvert_exporter": "python",
   "pygments_lexer": "ipython3",
   "version": "3.9.10"
  },
  "orig_nbformat": 4,
  "vscode": {
   "interpreter": {
    "hash": "4292628c65728247334fc93641ca7f3e3a8b4c94597f321f019b9b1e1fe69d20"
   }
  }
 },
 "nbformat": 4,
 "nbformat_minor": 2
}
